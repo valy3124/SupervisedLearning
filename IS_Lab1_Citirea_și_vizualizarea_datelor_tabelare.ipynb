{
  "cells": [
    {
      "cell_type": "markdown",
      "metadata": {
        "id": "view-in-github",
        "colab_type": "text"
      },
      "source": [
        "<a href=\"https://colab.research.google.com/github/valy3124/SupervisedLearning/blob/main/IS_Lab1_Citirea_%C8%99i_vizualizarea_datelor_tabelare.ipynb\" target=\"_parent\"><img src=\"https://colab.research.google.com/assets/colab-badge.svg\" alt=\"Open In Colab\"/></a>"
      ]
    },
    {
      "cell_type": "markdown",
      "id": "003cfb69",
      "metadata": {
        "id": "003cfb69"
      },
      "source": [
        "Dataset: https://www.kaggle.com/datasets/uciml/pima-indians-diabetes-database?resource=download\n",
        "\n",
        "The dataset consists of several medical predictor variables and one target variable, Outcome. Predictor variables includes the number of pregnancies the patient has had, their BMI, insulin level, age, and so on.\n",
        "\n"
      ]
    },
    {
      "cell_type": "markdown",
      "id": "db1faaac",
      "metadata": {
        "id": "db1faaac"
      },
      "source": [
        "# Importing pandas and reading our data\n",
        "\n",
        "Pandas is a Python library used for working with data sets. It has functions for analyzing, cleaning, exploring, and manipulating data."
      ]
    },
    {
      "cell_type": "code",
      "execution_count": null,
      "id": "d3a702d7",
      "metadata": {
        "id": "d3a702d7"
      },
      "outputs": [],
      "source": [
        "import pandas as pd\n",
        "\n",
        "df = pd.read_csv('diabetes.csv')\n",
        "print(df.head())"
      ]
    },
    {
      "cell_type": "code",
      "execution_count": null,
      "id": "bba8986e",
      "metadata": {
        "id": "bba8986e"
      },
      "outputs": [],
      "source": [
        "print(df.tail(7))"
      ]
    },
    {
      "cell_type": "markdown",
      "id": "a305a499",
      "metadata": {
        "id": "a305a499"
      },
      "source": [
        "Extracting a list with the names of the columns"
      ]
    },
    {
      "cell_type": "code",
      "execution_count": null,
      "id": "9e3112ae",
      "metadata": {
        "id": "9e3112ae"
      },
      "outputs": [],
      "source": [
        "columns = list(df.columns.values)\n",
        "print(columns)"
      ]
    },
    {
      "cell_type": "code",
      "execution_count": null,
      "id": "21e84f9f",
      "metadata": {
        "id": "21e84f9f"
      },
      "outputs": [],
      "source": [
        "df.info()"
      ]
    },
    {
      "cell_type": "markdown",
      "id": "485eb8b3",
      "metadata": {
        "id": "485eb8b3"
      },
      "source": [
        "# Indexing and Slicing"
      ]
    },
    {
      "cell_type": "code",
      "execution_count": null,
      "id": "2266ce0e",
      "metadata": {
        "id": "2266ce0e"
      },
      "outputs": [],
      "source": [
        "# accessing the row with index 2\n",
        "df.iloc[2]"
      ]
    },
    {
      "cell_type": "code",
      "execution_count": null,
      "id": "8db106a6",
      "metadata": {
        "id": "8db106a6"
      },
      "outputs": [],
      "source": [
        "# accessing first 5 rows and first 3 columns\n",
        "df.iloc[0:5, 0:3]"
      ]
    },
    {
      "cell_type": "code",
      "execution_count": null,
      "id": "74eefc28",
      "metadata": {
        "scrolled": true,
        "id": "74eefc28"
      },
      "outputs": [],
      "source": [
        "# index of entry and BMI value\n",
        "for idx, row in df.iterrows():\n",
        "    print(idx, row[\"BMI\"])"
      ]
    },
    {
      "cell_type": "markdown",
      "id": "9b15b3c1",
      "metadata": {
        "id": "9b15b3c1"
      },
      "source": [
        "# Filter Data"
      ]
    },
    {
      "cell_type": "code",
      "execution_count": null,
      "id": "731b1c34",
      "metadata": {
        "id": "731b1c34"
      },
      "outputs": [],
      "source": [
        "# people with a BMI lower than 20\n",
        "df.loc[df['BMI']<20]"
      ]
    },
    {
      "cell_type": "markdown",
      "id": "790123e9",
      "metadata": {
        "id": "790123e9"
      },
      "source": [
        "##### iloc (Index-based Accessor) :\n",
        "It's used for label-based selection of rows and columns\n",
        "##### loc (Label-based Accessor):\n",
        "It's used for integer-based selection of rows and columns."
      ]
    },
    {
      "cell_type": "markdown",
      "id": "2cabae38",
      "metadata": {
        "id": "2cabae38"
      },
      "source": [
        "# Condition-based filtering"
      ]
    },
    {
      "cell_type": "code",
      "execution_count": null,
      "id": "8125fd4d",
      "metadata": {
        "id": "8125fd4d"
      },
      "outputs": [],
      "source": [
        "df.loc[df['Pregnancies']>12]"
      ]
    },
    {
      "cell_type": "code",
      "execution_count": null,
      "id": "cc15d6e6",
      "metadata": {
        "id": "cc15d6e6"
      },
      "outputs": [],
      "source": [
        "filtered_df_neg = df.loc[((df['BloodPressure']>80) | (df['BMI']>=40)) & (df['Outcome']==0) ]\n",
        "filtered_df_pos = df.loc[((df['BloodPressure']>80) | (df['BMI']>=40)) & (df['Outcome']==1) ]\n",
        "\n",
        "print(\"No. of people with diabetes and obesity and high blood presure \", len(filtered_df_pos))\n",
        "print(\"No. of people without diabetes and obesity and high blood presure \",len(filtered_df_neg))"
      ]
    },
    {
      "cell_type": "code",
      "execution_count": null,
      "id": "4c6728b1",
      "metadata": {
        "id": "4c6728b1"
      },
      "outputs": [],
      "source": [
        "#generate descriptive statistics\n",
        "df.describe()"
      ]
    },
    {
      "cell_type": "code",
      "execution_count": null,
      "id": "fd5f6ce9",
      "metadata": {
        "id": "fd5f6ce9"
      },
      "outputs": [],
      "source": [
        "#changing columns names\n",
        "df.rename(columns = {'DiabetesPedigreeFunction':'GeneticProbabilityOfDiabetes'}, inplace = True)"
      ]
    },
    {
      "cell_type": "markdown",
      "id": "92ef4a50",
      "metadata": {
        "id": "92ef4a50"
      },
      "source": [
        "# Sorting"
      ]
    },
    {
      "cell_type": "code",
      "execution_count": null,
      "id": "6da697de",
      "metadata": {
        "id": "6da697de"
      },
      "outputs": [],
      "source": [
        "# printing Glucose and Insulin values sorted ascending by Glucose\n",
        "print(df[['Glucose', 'Insulin']].sort_values('Glucose'))"
      ]
    },
    {
      "cell_type": "code",
      "execution_count": null,
      "id": "5810c821",
      "metadata": {
        "id": "5810c821"
      },
      "outputs": [],
      "source": [
        "df.sort_values(\"Age\", ascending=False)"
      ]
    },
    {
      "cell_type": "code",
      "execution_count": null,
      "id": "28397638",
      "metadata": {
        "id": "28397638"
      },
      "outputs": [],
      "source": [
        "# sorting data ascending by age and descending by Glucose\n",
        "# in order to quickly spot the youngest people with the highest level of glucose\n",
        "df.sort_values([\"Age\", \"Glucose\"], ascending=[True, False])"
      ]
    },
    {
      "cell_type": "markdown",
      "id": "22ed2ea6",
      "metadata": {
        "id": "22ed2ea6"
      },
      "source": [
        "##### Groupby\n",
        "A groupby operation involves some combination of splitting the object, applying a function, and combining the results. This can be used to group large amounts of data and compute operations on these groups."
      ]
    },
    {
      "cell_type": "code",
      "execution_count": null,
      "id": "e4e3e219",
      "metadata": {
        "id": "e4e3e219"
      },
      "outputs": [],
      "source": [
        "mean_values_age = df.groupby(['Age']).mean()\n",
        "#mean_values_age = mean_values_age.drop(columns=['Outcome'])\n",
        "mean_values_age = mean_values_age.drop('Outcome', axis=1)\n",
        "mean_values_age.sort_values('GeneticProbabilityOfDiabetes', ascending=False)"
      ]
    },
    {
      "cell_type": "code",
      "execution_count": null,
      "id": "35774f8d",
      "metadata": {
        "id": "35774f8d"
      },
      "outputs": [],
      "source": [
        "# saving the Outcome values\n",
        "target = df[\"Outcome\"]\n",
        "target"
      ]
    },
    {
      "cell_type": "code",
      "execution_count": null,
      "id": "b9aea431",
      "metadata": {
        "id": "b9aea431"
      },
      "outputs": [],
      "source": [
        "# eliminating columns\n",
        "df.drop(columns=[\"Outcome\"])"
      ]
    },
    {
      "cell_type": "code",
      "execution_count": null,
      "id": "36f5f1f9",
      "metadata": {
        "id": "36f5f1f9"
      },
      "outputs": [],
      "source": [
        "df"
      ]
    },
    {
      "cell_type": "code",
      "execution_count": null,
      "id": "00b39229",
      "metadata": {
        "id": "00b39229"
      },
      "outputs": [],
      "source": [
        "# we have to make the attribution in order to apply the change\n",
        "df=df.drop(columns=[\"Outcome\"])"
      ]
    },
    {
      "cell_type": "code",
      "execution_count": null,
      "id": "bb2aeeb3",
      "metadata": {
        "id": "bb2aeeb3"
      },
      "outputs": [],
      "source": [
        "df"
      ]
    },
    {
      "cell_type": "code",
      "execution_count": null,
      "id": "cb21e82a",
      "metadata": {
        "id": "cb21e82a"
      },
      "outputs": [],
      "source": [
        "df=df.join(target)\n",
        "#df = pd.concat([df, target], axis=1)"
      ]
    },
    {
      "cell_type": "code",
      "execution_count": null,
      "id": "fb5df68a",
      "metadata": {
        "id": "fb5df68a"
      },
      "outputs": [],
      "source": [
        "df"
      ]
    },
    {
      "cell_type": "markdown",
      "id": "ace8394f",
      "metadata": {
        "id": "ace8394f"
      },
      "source": [
        "# Changing values based on conditions"
      ]
    },
    {
      "cell_type": "code",
      "execution_count": null,
      "id": "49bd078d",
      "metadata": {
        "id": "49bd078d"
      },
      "outputs": [],
      "source": [
        "df.loc[(df['Glucose']>150) & (df['Outcome']==0) & (df['BMI']>=40)]"
      ]
    },
    {
      "cell_type": "code",
      "execution_count": null,
      "id": "87417e74",
      "metadata": {
        "id": "87417e74"
      },
      "outputs": [],
      "source": [
        "# If the glucose and BMI values are high and that person is not marked as sick there is most likely a problem.\n",
        "# We extract the indexes of those rows and modify the Outcome value to 1\n",
        "rows_to_modify = list(df.loc[(df['Glucose']>150) & (df['Outcome']==0) & (df['BMI']>=40)].index.values)\n",
        "rows_to_modify"
      ]
    },
    {
      "cell_type": "code",
      "execution_count": null,
      "id": "2e57bdae",
      "metadata": {
        "id": "2e57bdae"
      },
      "outputs": [],
      "source": [
        "df.loc[(df['Glucose']>150) & (df['Outcome']==0) & (df['BMI']>=40), 'Outcome'] = 1\n",
        "df.loc[rows_to_modify]"
      ]
    },
    {
      "cell_type": "code",
      "execution_count": null,
      "id": "99759085",
      "metadata": {
        "id": "99759085"
      },
      "outputs": [],
      "source": [
        "selection_condition = df['Age'].isin([21,23])\n",
        "df[selection_condition]"
      ]
    },
    {
      "cell_type": "markdown",
      "id": "c876dff0",
      "metadata": {
        "id": "c876dff0"
      },
      "source": [
        "# Saving Files"
      ]
    },
    {
      "cell_type": "code",
      "execution_count": null,
      "id": "ca0eb646",
      "metadata": {
        "id": "ca0eb646"
      },
      "outputs": [],
      "source": [
        "df.to_csv(\"diabetesIndexed.csv\")"
      ]
    },
    {
      "cell_type": "code",
      "execution_count": null,
      "id": "ee4a9bdd",
      "metadata": {
        "id": "ee4a9bdd"
      },
      "outputs": [],
      "source": [
        "df.to_csv(\"diabetesNotIndexed.csv\", index=False)"
      ]
    },
    {
      "cell_type": "code",
      "execution_count": null,
      "id": "7cf095d2",
      "metadata": {
        "id": "7cf095d2"
      },
      "outputs": [],
      "source": [
        "df.to_excel(\"diabetesExcel.xlsx\", index=False)"
      ]
    },
    {
      "cell_type": "code",
      "execution_count": null,
      "id": "26fb6bcb",
      "metadata": {
        "id": "26fb6bcb"
      },
      "outputs": [],
      "source": [
        "df2 = pd.read_excel(\"diabetesExcel.xlsx\", index_col=False)"
      ]
    },
    {
      "cell_type": "code",
      "execution_count": null,
      "id": "cac073c9",
      "metadata": {
        "id": "cac073c9"
      },
      "outputs": [],
      "source": [
        "df2"
      ]
    },
    {
      "cell_type": "markdown",
      "id": "1a649502",
      "metadata": {
        "id": "1a649502"
      },
      "source": [
        "# Visualization"
      ]
    },
    {
      "cell_type": "code",
      "execution_count": null,
      "id": "038acbef",
      "metadata": {
        "id": "038acbef"
      },
      "outputs": [],
      "source": [
        "import matplotlib.pyplot as plt\n",
        "import seaborn as sns"
      ]
    },
    {
      "cell_type": "markdown",
      "id": "8620e502",
      "metadata": {
        "id": "8620e502"
      },
      "source": [
        "# Bar plots"
      ]
    },
    {
      "cell_type": "markdown",
      "id": "11c81afb",
      "metadata": {
        "id": "11c81afb"
      },
      "source": [
        "It's important to check for Data Imbalance. For classification tasks, check the distribution of the target variable to identify if the classes are imbalanced using .value_counts() or bar plots."
      ]
    },
    {
      "cell_type": "code",
      "execution_count": null,
      "id": "525fbbf7",
      "metadata": {
        "id": "525fbbf7"
      },
      "outputs": [],
      "source": [
        "df = pd.read_csv('diabetes.csv')"
      ]
    },
    {
      "cell_type": "code",
      "execution_count": null,
      "id": "2e907ee2",
      "metadata": {
        "id": "2e907ee2"
      },
      "outputs": [],
      "source": [
        "diabetes_counts = df['Outcome'].value_counts()\n",
        "plt.figure(figsize=(6, 4))\n",
        "diabetes_counts.plot(kind='bar', color=['blue', 'red'])\n",
        "plt.title('Data Imbalance')\n",
        "plt.ylabel('Number of People')\n",
        "plt.xlabel('Outcome')\n",
        "\n",
        "plt.show()\n",
        "# or sns.countplot(x='Outcome', data= df)"
      ]
    },
    {
      "cell_type": "markdown",
      "id": "a5618e99",
      "metadata": {
        "id": "a5618e99"
      },
      "source": [
        "Method of dealing with imbalanced classes: https://machinelearningmastery.com/smote-oversampling-for-imbalanced-classification/"
      ]
    },
    {
      "cell_type": "markdown",
      "id": "e3382a38",
      "metadata": {
        "id": "e3382a38"
      },
      "source": [
        "# Box plots\n",
        "We can use boxplots to detect outliers in numerical data"
      ]
    },
    {
      "cell_type": "code",
      "execution_count": null,
      "id": "4bb280af",
      "metadata": {
        "scrolled": true,
        "id": "4bb280af"
      },
      "outputs": [],
      "source": [
        "plt.figure(figsize=(12,12))\n",
        "for i, col in enumerate(columns):\n",
        "    plt.subplot(3,3, i+1)# sublot on which our boxplot is drawn for identifying outlier\n",
        "    sns.boxplot(x=col, data = df)\n",
        "plt.show()"
      ]
    },
    {
      "cell_type": "markdown",
      "id": "36dc827e",
      "metadata": {
        "id": "36dc827e"
      },
      "source": [
        "# Histograms\n",
        "We can plot histograms to understand the distribution of continuous variables. This also helps in detecting outliers."
      ]
    },
    {
      "cell_type": "code",
      "execution_count": null,
      "id": "1f498cc5",
      "metadata": {
        "id": "1f498cc5"
      },
      "outputs": [],
      "source": [
        "plt.figure(figsize=(12,12))\n",
        "for i, col in enumerate(columns):\n",
        "    plt.subplot(3,3, i+1)\n",
        "    sns.histplot(x=col, data = df, kde = True)\n",
        "plt.show()"
      ]
    },
    {
      "cell_type": "markdown",
      "id": "cc8eaf5c",
      "metadata": {
        "id": "cc8eaf5c"
      },
      "source": [
        "# Heatmaps\n",
        "We can use heatmaps to visualize the correlation between variables, which can reveal clusters or correlations."
      ]
    },
    {
      "cell_type": "code",
      "execution_count": null,
      "id": "cfae061b",
      "metadata": {
        "id": "cfae061b"
      },
      "outputs": [],
      "source": [
        "plt.figure(figsize= (12,12))\n",
        "sns.heatmap(df.corr(),cmap='coolwarm', annot = True)\n",
        "plt.show()"
      ]
    },
    {
      "cell_type": "markdown",
      "id": "0f8ca932",
      "metadata": {
        "id": "0f8ca932"
      },
      "source": [
        "Correlation coefficients:\n",
        "\n",
        "1: as one variable increases, the other variable increases proportionally\n",
        "\n",
        "-1: as one variable increases, the other decreases proportionally\n",
        "\n",
        "0: no linear relationship between the variables\n",
        "\n",
        "We can observe that the highest positive correlation (0.54) is between Age and Pregnancies, suggesting that as age increases, the number of pregnancies tends to increase as well.\n",
        "\n",
        "Glucose and Outcome show a  positive correlation of 0.47, indicating that higher glucose levels are associated with a higher likelihood of diabetes.\n",
        "\n",
        "We can also observe a corelation between Insulin and SkinThickness implying that higher insulin levels tend to be associated with thicker skin, which is indeed something mentioned in specialized literature: https://pubmed.ncbi.nlm.nih.gov/2721339/"
      ]
    },
    {
      "cell_type": "code",
      "execution_count": null,
      "id": "b42b9626",
      "metadata": {
        "id": "b42b9626"
      },
      "outputs": [],
      "source": [
        "corr_matrix = df.corr()\n",
        "corr_matrix"
      ]
    },
    {
      "cell_type": "markdown",
      "id": "3ab2ee2c",
      "metadata": {
        "id": "3ab2ee2c"
      },
      "source": [
        "# Scatterplots\n",
        "A scatter plot identifies a possible relationship between changes observed in two different sets of variables."
      ]
    },
    {
      "cell_type": "code",
      "execution_count": null,
      "id": "6a7ab49e",
      "metadata": {
        "id": "6a7ab49e"
      },
      "outputs": [],
      "source": [
        "plt.figure(figsize=(20, 12))\n",
        "sns.scatterplot(data=df, x='Glucose', y='BMI', hue='Outcome', style='Outcome', s=100)\n",
        "plt.title('Scatter Plot of Glucose vs BMI')\n",
        "plt.xlabel('Glucose Level')\n",
        "plt.ylabel('BMI')\n",
        "plt.legend(title='Outcome', loc='upper left', labels=['No Diabetes', 'Diabetes'])\n",
        "plt.grid(True)\n",
        "plt.show()"
      ]
    },
    {
      "cell_type": "markdown",
      "id": "6bcadbeb",
      "metadata": {
        "id": "6bcadbeb"
      },
      "source": [
        "# Missing values\n",
        "\n",
        "In datasets, these missing entries might appear as the letter \"0\", \"NA\", \"NaN\", \"NULL\", \"Not Applicable\", or \"None”. In this case we observe that missing data is marked with 0. No one can have a BMI of 0."
      ]
    },
    {
      "cell_type": "code",
      "execution_count": null,
      "id": "c1293804",
      "metadata": {
        "id": "c1293804"
      },
      "outputs": [],
      "source": [
        "missing_values = (df[['SkinThickness', 'BloodPressure', 'BMI']] == 0).sum()\n",
        "print(\"Number of missing values:\")\n",
        "print(missing_values)"
      ]
    },
    {
      "cell_type": "code",
      "execution_count": null,
      "id": "38d9283a",
      "metadata": {
        "id": "38d9283a"
      },
      "outputs": [],
      "source": [
        "mean_skin_thickness = df['SkinThickness'][df['SkinThickness'] != 0].mean()\n",
        "df['SkinThickness'] = df['SkinThickness'].replace(0, mean_skin_thickness)\n",
        "missing_values = (df[['SkinThickness', 'BloodPressure', 'BMI']] == 0).sum()\n",
        "print(\"Number of missing values:\")\n",
        "print(missing_values)"
      ]
    },
    {
      "cell_type": "markdown",
      "id": "80d32e63",
      "metadata": {
        "id": "80d32e63"
      },
      "source": [
        "Mean Imputation: useful when the data follows a normal distribution, the mean is a good representation of the central tendency.\n",
        "\n",
        "Median Imputation: it's less sensitive to outliers than the mean.\n",
        "\n",
        "Mode Imputation: useful for categorical data or discrete numerical data. The mode is the value that appears most frequently in a dataset. In the context of mode imputation, it is used to replace missing values with the most common value in a given column.\n",
        "\n",
        "Forward Fill: It replaces missing values with the last observed non-missing value in the column.\n",
        "\n",
        "Backward Fill: It replaces missing values with the next observed non-missing value in the column.\n"
      ]
    },
    {
      "cell_type": "markdown",
      "id": "a1a3d91d",
      "metadata": {
        "id": "a1a3d91d"
      },
      "source": [
        "# Categorical Features\n",
        "Stroke dataset: https://www.kaggle.com/datasets/fedesoriano/stroke-prediction-dataset/data"
      ]
    },
    {
      "cell_type": "code",
      "execution_count": null,
      "id": "710b15a8",
      "metadata": {
        "id": "710b15a8"
      },
      "outputs": [],
      "source": [
        "stroke_df = pd.read_csv(\"stroke-data.csv\", index_col=0)"
      ]
    },
    {
      "cell_type": "code",
      "execution_count": null,
      "id": "a1727fad",
      "metadata": {
        "id": "a1727fad"
      },
      "outputs": [],
      "source": [
        "stroke_df"
      ]
    },
    {
      "cell_type": "markdown",
      "id": "ab359662",
      "metadata": {
        "id": "ab359662"
      },
      "source": [
        "In the previous dataset we only had numerical data, but in this dataset we also home categorical features. Since machine learning algorithms can only process numerical values we need to convert these categorical features into appropriate numerical representations. In order to do this we can use:\n",
        "\n",
        "Label Encoder: Encode target labels with value between 0 and n_classes-1. ![image.png](attachment:image.png)\n",
        "\n",
        "One-Hot Encoder: Encode categorical features as a one-hot numeric array.\n",
        "![image-2.png](attachment:image-2.png)"
      ]
    },
    {
      "cell_type": "code",
      "execution_count": null,
      "id": "e26119bc",
      "metadata": {
        "id": "e26119bc"
      },
      "outputs": [],
      "source": [
        "stroke_df.head()"
      ]
    },
    {
      "cell_type": "code",
      "execution_count": null,
      "id": "4b5b2c7d",
      "metadata": {
        "id": "4b5b2c7d"
      },
      "outputs": [],
      "source": [
        "stroke_one_hot_df = pd.get_dummies(stroke_df)\n",
        "stroke_one_hot_df.head()"
      ]
    },
    {
      "cell_type": "code",
      "execution_count": null,
      "id": "018081ae",
      "metadata": {
        "id": "018081ae"
      },
      "outputs": [],
      "source": [
        "# @title\n",
        "categorical_columns = stroke_df.select_dtypes(include=['object', 'category']).columns.tolist()\n",
        "categorical_columns"
      ]
    },
    {
      "cell_type": "code",
      "execution_count": null,
      "id": "56c1b828",
      "metadata": {
        "id": "56c1b828"
      },
      "outputs": [],
      "source": [
        "from sklearn.preprocessing import LabelEncoder\n",
        "\n",
        "label_encoder = LabelEncoder()\n",
        "label_mappings = {}\n",
        "\n",
        "for column in categorical_columns:\n",
        "    stroke_df[column] = label_encoder.fit_transform(stroke_df[column])\n",
        "    label_mappings[column] = dict(zip(label_encoder.classes_, range(len(label_encoder.classes_))))\n",
        "\n",
        "print(label_mappings)\n",
        "stroke_df.head()"
      ]
    },
    {
      "cell_type": "markdown",
      "id": "76f0bcdd",
      "metadata": {
        "id": "76f0bcdd"
      },
      "source": [
        "# Exercises"
      ]
    },
    {
      "cell_type": "markdown",
      "id": "d10997a1",
      "metadata": {
        "id": "d10997a1"
      },
      "source": [
        "1. Determine the target value (the value that we want to predict/classify depending on task) and create a plot to see if the dataset we are using has class imbalance or not."
      ]
    },
    {
      "cell_type": "code",
      "execution_count": null,
      "id": "85343d20",
      "metadata": {
        "id": "85343d20"
      },
      "outputs": [],
      "source": [
        "#TO DO\n",
        "\n",
        "stroke_counts = stroke_df['stroke'].value_counts()\n",
        "plt.figure(figsize=(6, 4))\n",
        "stroke_counts.plot(kind='bar', color=['blue', 'red'])\n",
        "plt.title('Data Imbalance')\n",
        "plt.ylabel('Number of People')\n",
        "plt.xlabel('Has Stroke')\n",
        "\n",
        "plt.show()\n"
      ]
    },
    {
      "cell_type": "markdown",
      "id": "ede40120",
      "metadata": {
        "id": "ede40120"
      },
      "source": [
        "2. Using any graphical representation of your choice, determine if there are correlations between the features. Choose 2 correlations that you identified as relevant and explain them."
      ]
    },
    {
      "cell_type": "code",
      "execution_count": null,
      "id": "ac4f3412",
      "metadata": {
        "id": "ac4f3412"
      },
      "outputs": [],
      "source": [
        "#TO DO\n",
        "\n",
        "plt.figure(figsize= (12,12))\n",
        "sns.heatmap(stroke_df.corr(),cmap='coolwarm', annot = True)\n",
        "plt.show()"
      ]
    },
    {
      "cell_type": "markdown",
      "source": [
        "As we can see, gender and smoking status are not correlated because a man or a woman are not more prone to smoke than the other."
      ],
      "metadata": {
        "id": "P4gOQxScyjO1"
      },
      "id": "P4gOQxScyjO1"
    },
    {
      "cell_type": "markdown",
      "id": "23549832",
      "metadata": {
        "id": "23549832"
      },
      "source": [
        "3. Count and display how many entries are missing for the BMI feature, and fill in the missing values. Justify your choice of method."
      ]
    },
    {
      "cell_type": "code",
      "execution_count": null,
      "id": "5b589b95",
      "metadata": {
        "id": "5b589b95"
      },
      "outputs": [],
      "source": [
        "#TO DO\n",
        "missing_bmi = stroke_df['bmi'].isnull().sum()\n",
        "print(missing_bmi)\n",
        "\n",
        "stroke_df['bmi'].fillna(stroke_df['bmi'].median(), inplace=True)\n"
      ]
    },
    {
      "cell_type": "markdown",
      "id": "f722d250",
      "metadata": {
        "id": "f722d250"
      },
      "source": [
        "4. Determine the number of people who had both heart disease and high blood pressure, and categorize them as either smokers or non-smokers."
      ]
    },
    {
      "cell_type": "code",
      "execution_count": null,
      "id": "8478e43e",
      "metadata": {
        "id": "8478e43e"
      },
      "outputs": [],
      "source": [
        "#TO DO\n",
        "filter_df = stroke_df.loc[(stroke_df['heart_disease'] == 1) & (stroke_df['hypertension'] == 1)]\n",
        "\n",
        "\n",
        "smoker_counts = filter_df.groupby(by=[\"smoking_status\"])['age'].count()\n",
        "smoker_counts"
      ]
    },
    {
      "cell_type": "markdown",
      "id": "e57a0748",
      "metadata": {
        "id": "e57a0748"
      },
      "source": [
        "5. Sort the DataFrame by age in ascending order and by glucose level in descending order. Then, rearrange the column names in alphabetical order, keeping the stroke column as the last one."
      ]
    },
    {
      "cell_type": "code",
      "execution_count": null,
      "id": "5c78b085",
      "metadata": {
        "id": "5c78b085"
      },
      "outputs": [],
      "source": [
        "#TO DO\n",
        "stroke_df.sort_values([\"age\", \"avg_glucose_level\"], ascending=[True, False])\n",
        "\n",
        "cols = sorted(stroke_df.columns.tolist())\n",
        "cols.remove('stroke')\n",
        "cols.append('stroke')\n",
        "stroke_df = stroke_df[cols]\n",
        "stroke_df\n"
      ]
    },
    {
      "cell_type": "markdown",
      "id": "9f26f847",
      "metadata": {
        "id": "9f26f847"
      },
      "source": [
        "Save the final csv file"
      ]
    },
    {
      "cell_type": "code",
      "execution_count": null,
      "id": "13a8413b",
      "metadata": {
        "id": "13a8413b"
      },
      "outputs": [],
      "source": [
        "#TO DO\n",
        "stroke_df.to_csv(\"stroke_final.csv\", index=False)"
      ]
    }
  ],
  "metadata": {
    "kernelspec": {
      "display_name": "Python 3 (ipykernel)",
      "language": "python",
      "name": "python3"
    },
    "language_info": {
      "codemirror_mode": {
        "name": "ipython",
        "version": 3
      },
      "file_extension": ".py",
      "mimetype": "text/x-python",
      "name": "python",
      "nbconvert_exporter": "python",
      "pygments_lexer": "ipython3",
      "version": "3.11.5"
    },
    "colab": {
      "provenance": [],
      "include_colab_link": true
    }
  },
  "nbformat": 4,
  "nbformat_minor": 5
}